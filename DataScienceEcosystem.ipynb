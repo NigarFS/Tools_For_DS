{
 "cells": [
  {
   "cell_type": "markdown",
   "id": "02ad9b8f",
   "metadata": {},
   "source": [
    "<center>\n",
    "    <img src=\"https://cf-courses-data.s3.us.cloud-object-storage.appdomain.cloud/IBMDeveloperSkillsNetwork-DS0105EN-SkillsNetwork/labs/Module2/images/SN_web_lightmode.png\" width=\"300\" alt=\"cognitiveclass.ai logo\">\n",
    "</center>"
   ]
  },
  {
   "cell_type": "markdown",
   "id": "96c1d67c",
   "metadata": {},
   "source": [
    "Create a markdown cell with the title Data Science Tools and Ecosystem using H1 style heading."
   ]
  },
  {
   "cell_type": "markdown",
   "id": "c801fb94",
   "metadata": {},
   "source": [
    "# Data Science Tools and Ecosystem"
   ]
  },
  {
   "cell_type": "markdown",
   "id": "faee8499",
   "metadata": {},
   "source": [
    "Write an introductory sentence about the notebook such as the follows: "
   ]
  },
  {
   "cell_type": "markdown",
   "id": "f9ca749c",
   "metadata": {},
   "source": [
    "In this notebook, Data Science Tools and Ecosystem are summarized."
   ]
  },
  {
   "cell_type": "markdown",
   "id": "9a8ab673",
   "metadata": {},
   "source": [
    "Below the introduction cell created in Exercise 3, insert a new markdown cell to list the objectives that this notebook covered. In this new cell start with an introductory line titled: Objectives: in bold font. Then using an unordered list (bullets) indicate 3 to 5 items covered in this notebook"
   ]
  },
  {
   "cell_type": "markdown",
   "id": "5ab0ebb6",
   "metadata": {},
   "source": [
    "__Objectives:__\n",
    "\n",
    "* List popular Data Science Languages\n",
    "* List commonly used Data Science libraries\n",
    "* List Data Science Development Tools\n",
    "* Examples of Evaluating Arithmetic expressions in Python"
   ]
  },
  {
   "cell_type": "markdown",
   "id": "9be98af9",
   "metadata": {},
   "source": [
    "Create a markdown cell to list data science languages:\n"
   ]
  },
  {
   "cell_type": "code",
   "execution_count": 51,
   "id": "48b687c7",
   "metadata": {},
   "outputs": [
    {
     "name": "stdout",
     "output_type": "stream",
     "text": [
      "Some of the popular languages that Data Scientists use are:  ['Python', 'R', 'Julia', 'Java']\n"
     ]
    }
   ],
   "source": [
    "text= \"Some of the popular languages that Data Scientists use are: \"\n",
    "languages_ds = [\"Python\", \"R\", \"Julia\", \"Java\"]\n",
    "print(text,languages_ds)"
   ]
  },
  {
   "cell_type": "markdown",
   "id": "f4e569dd",
   "metadata": {},
   "source": [
    "Create a markdown cell to list data science libraries: "
   ]
  },
  {
   "cell_type": "code",
   "execution_count": 44,
   "id": "72b608fa",
   "metadata": {},
   "outputs": [
    {
     "name": "stdout",
     "output_type": "stream",
     "text": [
      "Some of the commonly used libraries used by Data Scientists include:  ['SciPy', 'Pandas', 'Matplotlib']\n"
     ]
    }
   ],
   "source": [
    "text1 = \"Some of the commonly used libraries used by Data Scientists include: \"\n",
    "libraries_ds = [\"SciPy\", \"Pandas\", \"Matplotlib\"]\n",
    "print (text1, libraries_ds) \n",
    "\n"
   ]
  },
  {
   "cell_type": "markdown",
   "id": "7d60c7a4",
   "metadata": {},
   "source": [
    "Create a single column table in this cell with the first row containing the header Data Science Tools. The subsequent three rows in the table should indicate three development environment open source tools used in data science."
   ]
  },
  {
   "cell_type": "markdown",
   "id": "b33f2314",
   "metadata": {},
   "source": [
    "Data Science Tools  |\n",
    "------------- |\n",
    "Visual Studio Code | \n",
    "Jupyter Notebooks  | \n",
    "RStudio |"
   ]
  },
  {
   "cell_type": "markdown",
   "id": "75a62044",
   "metadata": {},
   "source": [
    "Add a line in this cell with H3 style heading with text like:"
   ]
  },
  {
   "cell_type": "markdown",
   "id": "9da5c516",
   "metadata": {},
   "source": [
    "### Below are a few examples of evaluating arithmetic expressions in Python:"
   ]
  },
  {
   "cell_type": "code",
   "execution_count": 45,
   "id": "7200572f",
   "metadata": {},
   "outputs": [
    {
     "name": "stdout",
     "output_type": "stream",
     "text": [
      "17\n"
     ]
    }
   ],
   "source": [
    "#This a simple arithmetic expression to mutiply then add integers\n",
    "x=(3*4)+5\n",
    "print(x)"
   ]
  },
  {
   "cell_type": "code",
   "execution_count": 49,
   "id": "d145d7f9",
   "metadata": {},
   "outputs": [
    {
     "name": "stdout",
     "output_type": "stream",
     "text": [
      "3 hours 20 minutes\n"
     ]
    }
   ],
   "source": [
    "#This will convert 200 minutes to hours by diving by 60\n",
    "\n",
    "print(200//60,\"hours\",(200%60),\"minutes\")"
   ]
  },
  {
   "cell_type": "markdown",
   "id": "dbd7d002",
   "metadata": {},
   "source": [
    "## Author\n",
    "Salmanzade Nigar"
   ]
  }
 ],
 "metadata": {
  "kernelspec": {
   "display_name": "Python 3 (ipykernel)",
   "language": "python",
   "name": "python3"
  },
  "language_info": {
   "codemirror_mode": {
    "name": "ipython",
    "version": 3
   },
   "file_extension": ".py",
   "mimetype": "text/x-python",
   "name": "python",
   "nbconvert_exporter": "python",
   "pygments_lexer": "ipython3",
   "version": "3.9.12"
  }
 },
 "nbformat": 4,
 "nbformat_minor": 5
}
